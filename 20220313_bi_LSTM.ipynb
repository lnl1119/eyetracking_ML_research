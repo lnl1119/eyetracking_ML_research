{
 "cells": [
  {
   "cell_type": "code",
   "execution_count": 1,
   "metadata": {},
   "outputs": [
    {
     "data": {
      "text/html": [
       "<div>\n",
       "<style scoped>\n",
       "    .dataframe tbody tr th:only-of-type {\n",
       "        vertical-align: middle;\n",
       "    }\n",
       "\n",
       "    .dataframe tbody tr th {\n",
       "        vertical-align: top;\n",
       "    }\n",
       "\n",
       "    .dataframe thead th {\n",
       "        text-align: right;\n",
       "    }\n",
       "</style>\n",
       "<table border=\"1\" class=\"dataframe\">\n",
       "  <thead>\n",
       "    <tr style=\"text-align: right;\">\n",
       "      <th></th>\n",
       "      <th>Q_ID</th>\n",
       "      <th>text</th>\n",
       "      <th>fixation1</th>\n",
       "    </tr>\n",
       "  </thead>\n",
       "  <tbody>\n",
       "    <tr>\n",
       "      <th>54945</th>\n",
       "      <td>1</td>\n",
       "      <td>兩</td>\n",
       "      <td>0</td>\n",
       "    </tr>\n",
       "    <tr>\n",
       "      <th>54946</th>\n",
       "      <td>1</td>\n",
       "      <td>個</td>\n",
       "      <td>0</td>\n",
       "    </tr>\n",
       "    <tr>\n",
       "      <th>54947</th>\n",
       "      <td>1</td>\n",
       "      <td>量筒</td>\n",
       "      <td>1</td>\n",
       "    </tr>\n",
       "    <tr>\n",
       "      <th>54948</th>\n",
       "      <td>1</td>\n",
       "      <td>各</td>\n",
       "      <td>0</td>\n",
       "    </tr>\n",
       "    <tr>\n",
       "      <th>54949</th>\n",
       "      <td>1</td>\n",
       "      <td>裝</td>\n",
       "      <td>1</td>\n",
       "    </tr>\n",
       "    <tr>\n",
       "      <th>...</th>\n",
       "      <td>...</td>\n",
       "      <td>...</td>\n",
       "      <td>...</td>\n",
       "    </tr>\n",
       "    <tr>\n",
       "      <th>56161</th>\n",
       "      <td>47</td>\n",
       "      <td>變化</td>\n",
       "      <td>1</td>\n",
       "    </tr>\n",
       "    <tr>\n",
       "      <th>56162</th>\n",
       "      <td>47</td>\n",
       "      <td>變大</td>\n",
       "      <td>0</td>\n",
       "    </tr>\n",
       "    <tr>\n",
       "      <th>56163</th>\n",
       "      <td>47</td>\n",
       "      <td>變小</td>\n",
       "      <td>0</td>\n",
       "    </tr>\n",
       "    <tr>\n",
       "      <th>56164</th>\n",
       "      <td>47</td>\n",
       "      <td>不會</td>\n",
       "      <td>0</td>\n",
       "    </tr>\n",
       "    <tr>\n",
       "      <th>56165</th>\n",
       "      <td>47</td>\n",
       "      <td>改變</td>\n",
       "      <td>0</td>\n",
       "    </tr>\n",
       "  </tbody>\n",
       "</table>\n",
       "<p>1221 rows × 3 columns</p>\n",
       "</div>"
      ],
      "text/plain": [
       "       Q_ID text  fixation1\n",
       "54945     1    兩          0\n",
       "54946     1    個          0\n",
       "54947     1   量筒          1\n",
       "54948     1    各          0\n",
       "54949     1    裝          1\n",
       "...     ...  ...        ...\n",
       "56161    47   變化          1\n",
       "56162    47   變大          0\n",
       "56163    47   變小          0\n",
       "56164    47   不會          0\n",
       "56165    47   改變          0\n",
       "\n",
       "[1221 rows x 3 columns]"
      ]
     },
     "execution_count": 1,
     "metadata": {},
     "output_type": "execute_result"
    }
   ],
   "source": [
    "import numpy as np\n",
    "import pandas as pd\n",
    "\n",
    "PARTICIPANT_ID = 46\n",
    "\n",
    "df_csv=pd.read_csv('/Users/apple/Desktop/deep_eye/dataset/input_data.csv',usecols=['participant_ID','Q_ID','text','fixation1'])\n",
    "df_csv=df_csv[(df_csv['participant_ID']==PARTICIPANT_ID)] # take 1st participant data\n",
    "df_csv=df_csv.drop(['participant_ID'],axis=1)\n",
    "#df_csv=df_csv.fillna(' ')\n",
    "df_csv"
   ]
  },
  {
   "cell_type": "code",
   "execution_count": 2,
   "metadata": {},
   "outputs": [],
   "source": [
    "list_data=[]\n",
    "for j in range(1,48): #Q1~47\n",
    "    df=df_csv[(df_csv['Q_ID']==j)][['text','fixation1']] # keep 'text' and 'fixation1' \n",
    "    mylist = np.array(df).tolist()\n",
    "    list_data.append(mylist)\n",
    "\n",
    "texts=[[j[0] for j in i]for i in list_data] # len(texts)=47 # \n",
    "labels=[[str(j[1]) for j in i]for i in list_data]\n",
    "#print(labels)"
   ]
  },
  {
   "cell_type": "code",
   "execution_count": 35,
   "metadata": {},
   "outputs": [
    {
     "name": "stdout",
     "output_type": "stream",
     "text": [
      "train_x shape: 42\n",
      "train_y shape: 42\n",
      "test_x shape: 5\n",
      "test_y shape: 5\n"
     ]
    }
   ],
   "source": [
    "from tensorflow.keras.preprocessing.text import Tokenizer\n",
    "from tensorflow.keras.preprocessing.sequence import pad_sequences\n",
    "\n",
    "MAX_SEQUENCE_LENGTH = max(len(s) for s in texts) # word count in longest sentence #44\n",
    "tokenizer = Tokenizer() # tokenizer = Tokenizer(num_words=MAX_NB_WORDS)\n",
    "tokenizer.fit_on_texts(texts) #https://machinelearningknowledge.ai/keras-tokenizer-tutorial-with-examples-for-fit_on_texts-texts_to_sequences-texts_to_matrix-sequences_to_matrix/\n",
    "sequences = tokenizer.texts_to_sequences(texts) # turn text to number\n",
    "word_index = tokenizer.word_index #unique word to number\n",
    "MAX_NB_WORDS = len(word_index)+1 # 372=total count of unique words  #372+1=373 \n",
    "\n",
    "x = pad_sequences(sequences, MAX_SEQUENCE_LENGTH)  # left padding #, padding='post'\n",
    "y = pad_sequences(labels, MAX_SEQUENCE_LENGTH, dtype='int32', value=-1)  # left padding with -1\n",
    "from tensorflow.keras.utils import to_categorical\n",
    "y = [to_categorical(i, num_classes=3) for i in y] # turn -1 -> [0,0,1], 0 -> [1,0,0], 1 -> [0,1,0] \n",
    "\n",
    "# https://blog.csdn.net/qq_31456593/article/details/89578018\n",
    "# usually shape will be(num_samples,max_length), but crf layer needs shape to be (num_samples,max_length,1)\n",
    "# therefore, expand 1 dimension with 'expand_dims'\n",
    "\n",
    "#x = np.expand_dims(x, 2)\n",
    "#y = np.expand_dims(y, 2) \n",
    "\n",
    "\n",
    "from sklearn.model_selection import train_test_split\n",
    "train_x, test_x, train_y, test_y = train_test_split(x, y, test_size=0.1, train_size=0.9, random_state=20220313)\n",
    "print(\"train_x shape:\", len(train_x))\n",
    "print(\"train_y shape:\", len(train_y))\n",
    "print(\"test_x shape:\", len(test_x))\n",
    "print(\"test_y shape:\", len(test_y))"
   ]
  },
  {
   "cell_type": "code",
   "execution_count": 112,
   "metadata": {},
   "outputs": [
    {
     "data": {
      "text/plain": [
       "[41, 0, 1, 22, 39, 12]"
      ]
     },
     "execution_count": 112,
     "metadata": {},
     "output_type": "execute_result"
    }
   ],
   "source": [
    "from sklearn.utils import shuffle\n",
    "ttt = list(range(44))\n",
    "tttshiffle = shuffle(ttt, random_state=20220313)\n",
    "tttshiffle[38:]"
   ]
  },
  {
   "cell_type": "code",
   "execution_count": 111,
   "metadata": {},
   "outputs": [],
   "source": [
    "# # show current data form\n",
    "# for text, label in zip(train_x[0], train_y[0]):\n",
    "#     print('%s\\t%s' % (text, label))"
   ]
  },
  {
   "cell_type": "markdown",
   "metadata": {},
   "source": [
    "## Model Layout\n",
    "\n",
    "- **Layer 1 - Embedding layer** : We will feed the padded sequences of equal length (44) to the embedding layer. Once the network has been trained, each token will get transformed into a vector of n dimensions. We have chosen the n dimensions to be (32). \n",
    "\n",
    "\n",
    "These are the dimensions (?, 44, 32) plotted in the model plot for input layer and embedding layer. The ? or None in the dimension specifies batches, when it is None or ? the model can take any batch size.\n",
    "\n",
    "- **Layer 2 - Bidirectional LSTM** : Bidirectional lstm takes a recurrent layer (e.g. the first LSTM layer) as an argument. This layer takes the output from the previous embedding layer (44, 32). It also allows you to specify the merge mode, that is how the forward and backward outputs should be combined before being passed on to the next layer. The default mode is to concatenate, where the outputs are concatenated together, providing double the number of outputs to the next layer, in our case its 64(32 * 2).\n",
    "\n",
    "\n",
    "The output dimension of the bidirectional lstm layer (?, 44, 64) becomes the input dimension of the next lstm layer.\n",
    "\n",
    "- **Layer 3 - LSTM Layer** : An LSTM network is a recurrent neural network that has LSTM cell blocks in place of our standard neural network layers. These cells have various components called the input gate, the forget gate and the output gate.\n",
    "\n",
    "\n",
    "This layer takes the output dimension from the previous bidirectional lstm layer (?, 44, 64) and outputs (?, 104, 128)\n",
    "\n",
    "\n",
    "- **Layer 4 - TimeDistributed  Layer** : We are dealing with Many to Many RNN Architecture where we expect output from every input sequence for example (a1 →b1, a2 →b2… an →bn) where a and b are inputs and outputs of every sequence. The TimeDistributeDense layers allow you to apply Dense(fully-connected) operation across every output over every time-step. If you don't use this, you would only have one final output.\n",
    "\n",
    "This layer take the output dimension of the previous lstm layer (104, 128) and outputs the max sequence length (44) and max tags (3or2)."
   ]
  },
  {
   "cell_type": "code",
   "execution_count": 29,
   "metadata": {},
   "outputs": [],
   "source": [
    "import numpy as np\n",
    "from tensorflow.keras import Sequential, Model, Input\n",
    "from tensorflow.keras.layers import LSTM, Embedding, Dense, TimeDistributed, Dropout, Bidirectional"
   ]
  },
  {
   "cell_type": "code",
   "execution_count": 31,
   "metadata": {},
   "outputs": [],
   "source": [
    "from numpy.random import seed\n",
    "seed(1)\n",
    "tensorflow.random.set_seed(2)"
   ]
  },
  {
   "cell_type": "code",
   "execution_count": 32,
   "metadata": {},
   "outputs": [
    {
     "name": "stdout",
     "output_type": "stream",
     "text": [
      "input_dim:  373 \n",
      "output_dim:  128 \n",
      "input_length:  44 \n",
      "n_tags:  3\n"
     ]
    }
   ],
   "source": [
    "input_dim = MAX_NB_WORDS #MAX_NB_WORDS = len(word_index)+1 # 372=total count of unique words  #372+1=373 \n",
    "output_dim = 128\n",
    "\n",
    "input_length = MAX_SEQUENCE_LENGTH # MAX_SEQUENCE_LENGTH = max(len(s) for s in texts) # word count in longest sentence #44\n",
    "n_tags = 3 # 3 kinds of label\n",
    "print('input_dim: ', input_dim, '\\noutput_dim: ', output_dim, '\\ninput_length: ', input_length, '\\nn_tags: ', n_tags)"
   ]
  },
  {
   "cell_type": "code",
   "execution_count": 49,
   "metadata": {},
   "outputs": [
    {
     "name": "stdout",
     "output_type": "stream",
     "text": [
      "Model: \"sequential_5\"\n",
      "_________________________________________________________________\n",
      " Layer (type)                Output Shape              Param #   \n",
      "=================================================================\n",
      " embedding_5 (Embedding)     (None, 44, 128)           47744     \n",
      "                                                                 \n",
      " bidirectional_5 (Bidirectio  (None, 44, 256)          263168    \n",
      " nal)                                                            \n",
      "                                                                 \n",
      " lstm_11 (LSTM)              (None, 44, 128)           197120    \n",
      "                                                                 \n",
      " time_distributed_5 (TimeDis  (None, 44, 3)            387       \n",
      " tributed)                                                       \n",
      "                                                                 \n",
      "=================================================================\n",
      "Total params: 508,419\n",
      "Trainable params: 508,419\n",
      "Non-trainable params: 0\n",
      "_________________________________________________________________\n"
     ]
    }
   ],
   "source": [
    "def get_bilstm_lstm_model():\n",
    "    model = Sequential()\n",
    "\n",
    "    # Add Embedding layer\n",
    "    model.add(Embedding(input_dim=input_dim, output_dim=output_dim, input_length=input_length))\n",
    "\n",
    "    # Add bidirectional LSTM\n",
    "    model.add(Bidirectional(LSTM(units=output_dim, return_sequences=True, dropout=0.2, recurrent_dropout=0.2), merge_mode = 'concat'))\n",
    "\n",
    "    # Add LSTM\n",
    "    model.add(LSTM(units=output_dim, return_sequences=True, dropout=0.5, recurrent_dropout=0.5)) #0.5\n",
    "\n",
    "    \n",
    "    # Add timeDistributed Layer\n",
    "    model.add(TimeDistributed(Dense(n_tags, activation=\"relu\")))\n",
    "\n",
    "    #Optimiser \n",
    "    from tensorflow import keras\n",
    "    adam = keras.optimizers.Adam(learning_rate=0.0005, beta_1=0.9, beta_2=0.999)\n",
    "    #adam = k.optimizers.Adam(lr=0.0001, beta_1=0.5, beta_2=0.5)\n",
    "\n",
    "    # Compile model\n",
    "    model.compile(loss='categorical_crossentropy', optimizer='adam', metrics=['accuracy'])\n",
    "    model.summary()\n",
    "    \n",
    "    return model\n",
    "\n",
    "# def train_model(x, y, model):\n",
    "#     loss = list()\n",
    "#     for _ in range(25):\n",
    "#         # fit model for one epoch on this sequence\n",
    "#         #hist = model.fit(x, y, batch_size=10, verbose=1, epochs=10, validation_split=0.3)\n",
    "#         hist = model.fit(x, y, batch_size=1000, verbose=1, epochs=1, validation_split=0.2)\n",
    "#         loss.append(hist.history['accuracy'][0])\n",
    "#     return loss\n",
    "\n",
    "model = get_bilstm_lstm_model()\n",
    "#plot_model(model_bilstm_lstm)"
   ]
  },
  {
   "cell_type": "code",
   "execution_count": 50,
   "metadata": {},
   "outputs": [
    {
     "name": "stdout",
     "output_type": "stream",
     "text": [
      "Epoch 1/10\n",
      "7/7 [==============================] - 14s 2s/step - loss: 1.9410 - accuracy: 0.7355 - val_loss: 0.4482 - val_accuracy: 0.7753\n",
      "Epoch 2/10\n",
      "7/7 [==============================] - 15s 2s/step - loss: 0.5357 - accuracy: 0.8113 - val_loss: 0.4317 - val_accuracy: 0.8131\n",
      "Epoch 3/10\n",
      "7/7 [==============================] - 14s 2s/step - loss: 0.4179 - accuracy: 0.8189 - val_loss: 0.3927 - val_accuracy: 0.8207\n",
      "Epoch 4/10\n",
      "7/7 [==============================] - 12s 2s/step - loss: 0.4185 - accuracy: 0.8361 - val_loss: 0.3776 - val_accuracy: 0.8106\n",
      "Epoch 5/10\n",
      "7/7 [==============================] - 14s 2s/step - loss: 0.3542 - accuracy: 0.8368 - val_loss: 0.3693 - val_accuracy: 0.8081\n",
      "Epoch 6/10\n",
      "7/7 [==============================] - 13s 2s/step - loss: 0.3499 - accuracy: 0.8313 - val_loss: 0.3649 - val_accuracy: 0.8157\n",
      "Epoch 7/10\n",
      "7/7 [==============================] - 12s 2s/step - loss: 0.3988 - accuracy: 0.8251 - val_loss: 0.4075 - val_accuracy: 0.8157\n",
      "Epoch 8/10\n",
      "7/7 [==============================] - 12s 2s/step - loss: 0.3833 - accuracy: 0.8382 - val_loss: 0.3797 - val_accuracy: 0.8182\n",
      "Epoch 9/10\n",
      "7/7 [==============================] - 16s 2s/step - loss: 0.3765 - accuracy: 0.8382 - val_loss: 0.3823 - val_accuracy: 0.8131\n",
      "Epoch 10/10\n",
      "7/7 [==============================] - 14s 2s/step - loss: 0.3630 - accuracy: 0.8382 - val_loss: 0.3808 - val_accuracy: 0.8106\n"
     ]
    }
   ],
   "source": [
    "tensorflow.config.run_functions_eagerly(True)\n",
    "tensorflow.data.experimental.enable_debug_mode()\n",
    "\n",
    "EPOCHS = 10\n",
    "BATCH_SIZE = 5\n",
    "train_history = model.fit(train_x, np.array(train_y), batch_size=BATCH_SIZE, epochs=EPOCHS, validation_split=0.2)# ,  validation_data=(test_x, test_y))"
   ]
  },
  {
   "cell_type": "code",
   "execution_count": 42,
   "metadata": {},
   "outputs": [],
   "source": [
    "import matplotlib.pyplot as plt\n",
    "def show_train_history(train_history,train,validation):\n",
    "    plt.plot(train_history.history[train])\n",
    "    plt.plot(train_history.history[validation])\n",
    "    plt.title('Train History')\n",
    "    plt.ylabel('accuracy')\n",
    "    plt.xlabel('Epoch')\n",
    "    plt.legend(['train', 'validation'])\n",
    "    plt.show()"
   ]
  },
  {
   "cell_type": "code",
   "execution_count": 51,
   "metadata": {},
   "outputs": [
    {
     "data": {
      "image/png": "[encoded data removed]",
      "text/plain": [
       "<Figure size 432x288 with 1 Axes>"
      ]
     },
     "metadata": {},
     "output_type": "display_data"
    }
   ],
   "source": [
    "show_train_history(train_history,'accuracy','val_accuracy')"
   ]
  },
  {
   "cell_type": "code",
   "execution_count": 58,
   "metadata": {},
   "outputs": [
    {
     "data": {
      "image/png": "[encoded data removed]",
      "text/plain": [
       "<Figure size 432x288 with 1 Axes>"
      ]
     },
     "metadata": {},
     "output_type": "display_data"
    }
   ],
   "source": [
    "show_train_history(train_history,'loss','val_loss')"
   ]
  },
  {
   "cell_type": "code",
   "execution_count": 57,
   "metadata": {},
   "outputs": [
    {
     "name": "stdout",
     "output_type": "stream",
     "text": [
      "Evaluate on test data\n",
      "1/1 [==============================] - 1s 889ms/step - loss: 0.4401 - accuracy: 0.8045\n",
      "test loss, test acc: [0.4401034712791443, 0.8045454621315002]\n"
     ]
    }
   ],
   "source": [
    "print(\"Evaluate on test data\")\n",
    "results = model.evaluate(test_x, np.array(test_y), batch_size=128)\n",
    "print(\"test loss, test acc:\", results)"
   ]
  },
  {
   "cell_type": "code",
   "execution_count": null,
   "metadata": {},
   "outputs": [],
   "source": []
  },
  {
   "cell_type": "code",
   "execution_count": 113,
   "metadata": {},
   "outputs": [
    {
     "name": "stdout",
     "output_type": "stream",
     "text": [
      "predictions shape: (5, 44, 3)\n"
     ]
    }
   ],
   "source": [
    "predictions = model.predict(test_x)\n",
    "print(\"predictions shape:\", predictions.shape)"
   ]
  },
  {
   "cell_type": "code",
   "execution_count": 114,
   "metadata": {},
   "outputs": [
    {
     "data": {
      "text/plain": [
       "array([[0.        , 0.        , 0.20601904],\n",
       "       [0.        , 0.        , 0.368275  ],\n",
       "       [0.        , 0.        , 0.49657091],\n",
       "       [0.        , 0.        , 0.5962391 ],\n",
       "       [0.        , 0.        , 0.6724129 ],\n",
       "       [0.        , 0.        , 0.7296239 ],\n",
       "       [0.        , 0.        , 0.7716737 ],\n",
       "       [0.        , 0.        , 0.80164695],\n",
       "       [0.        , 0.        , 0.82199025],\n",
       "       [0.        , 0.        , 0.8346081 ],\n",
       "       [0.        , 0.        , 0.8409569 ],\n",
       "       [0.        , 0.        , 0.84212744],\n",
       "       [0.        , 0.        , 0.8389119 ],\n",
       "       [0.        , 0.        , 0.8318591 ],\n",
       "       [0.        , 0.        , 0.82131755],\n",
       "       [0.        , 0.        , 0.80746996],\n",
       "       [0.        , 0.        , 0.7903583 ],\n",
       "       [0.        , 0.        , 0.7699056 ],\n",
       "       [0.        , 0.        , 0.745931  ],\n",
       "       [0.        , 0.        , 0.7181638 ],\n",
       "       [0.        , 0.        , 0.6862533 ],\n",
       "       [0.        , 0.        , 0.64977944],\n",
       "       [0.        , 0.        , 0.60826385],\n",
       "       [0.        , 0.        , 0.56117994],\n",
       "       [0.        , 0.        , 0.5079689 ],\n",
       "       [0.        , 0.        , 0.44805774],\n",
       "       [0.        , 0.02591772, 0.380886  ],\n",
       "       [0.08696337, 0.0825408 , 0.30594307],\n",
       "       [0.19300804, 0.14724644, 0.20505084],\n",
       "       [0.2609113 , 0.18889996, 0.12809543],\n",
       "       [0.3141507 , 0.21572126, 0.06110653],\n",
       "       [0.34776214, 0.2344697 , 0.01095434],\n",
       "       [0.3765642 , 0.24905322, 0.        ],\n",
       "       [0.39839736, 0.26049522, 0.        ],\n",
       "       [0.40207228, 0.26420593, 0.        ],\n",
       "       [0.40588838, 0.2620903 , 0.        ],\n",
       "       [0.40188116, 0.2539642 , 0.        ],\n",
       "       [0.39340425, 0.24254937, 0.        ],\n",
       "       [0.37085184, 0.22014515, 0.        ],\n",
       "       [0.34936285, 0.20420124, 0.        ],\n",
       "       [0.32203186, 0.18416373, 0.        ],\n",
       "       [0.2988424 , 0.16725011, 0.        ],\n",
       "       [0.27233794, 0.14775957, 0.        ],\n",
       "       [0.2509555 , 0.1325101 , 0.        ]], dtype=float32)"
      ]
     },
     "execution_count": 114,
     "metadata": {},
     "output_type": "execute_result"
    }
   ],
   "source": [
    "predictions[0]"
   ]
  },
  {
   "cell_type": "code",
   "execution_count": 93,
   "metadata": {},
   "outputs": [
    {
     "data": {
      "text/plain": [
       "0"
      ]
     },
     "execution_count": 93,
     "metadata": {},
     "output_type": "execute_result"
    }
   ],
   "source": []
  },
  {
   "cell_type": "code",
   "execution_count": 119,
   "metadata": {},
   "outputs": [
    {
     "name": "stdout",
     "output_type": "stream",
     "text": [
      "[2, 2, 2, 2, 2, 2, 2, 0, 0, 0, 0, 0, 0, 0, 0, 0, 0, 0, 0, 0, 0, 0, 0, 0, 0, 0, 0, 0, 0, 0, 0, 0, 0, 0, 0, 0, 0, 0, 0, 0, 0, 0, 0, 0]\n",
      "[2, 2, 2, 2, 2, 2, 0, 0, 0, 1, 0, 1, 0, 1, 1, 0, 0, 0, 0, 0, 1, 0, 0, 0, 0, 0, 0, 1, 1, 1, 0, 1, 0, 0, 1, 1, 0, 0, 0, 1, 1, 0, 0, 0]\n"
     ]
    }
   ],
   "source": [
    "def compare_predict_answer(predictions):\n",
    "    predict = []\n",
    "    for i in range(len(predictions)):\n",
    "        predict.append(np.argmax(predictions[i]))\n",
    "    return predict\n",
    "\n",
    "print(compare_predict_answer(predictions[2]))\n",
    "print(compare_predict_answer(test_y[2]))"
   ]
  },
  {
   "cell_type": "code",
   "execution_count": 99,
   "metadata": {},
   "outputs": [
    {
     "data": {
      "text/plain": [
       "[2,\n",
       " 2,\n",
       " 2,\n",
       " 2,\n",
       " 2,\n",
       " 2,\n",
       " 2,\n",
       " 2,\n",
       " 2,\n",
       " 2,\n",
       " 2,\n",
       " 2,\n",
       " 2,\n",
       " 2,\n",
       " 2,\n",
       " 2,\n",
       " 2,\n",
       " 2,\n",
       " 2,\n",
       " 2,\n",
       " 2,\n",
       " 2,\n",
       " 2,\n",
       " 2,\n",
       " 2,\n",
       " 2,\n",
       " 2,\n",
       " 2,\n",
       " 0,\n",
       " 0,\n",
       " 0,\n",
       " 0,\n",
       " 0,\n",
       " 0,\n",
       " 0,\n",
       " 0,\n",
       " 0,\n",
       " 0,\n",
       " 0,\n",
       " 0,\n",
       " 0,\n",
       " 1,\n",
       " 0,\n",
       " 0]"
      ]
     },
     "execution_count": 99,
     "metadata": {},
     "output_type": "execute_result"
    }
   ],
   "source": [
    "predict_A = []\n",
    "for i in range(len(test_y[0])):\n",
    "    predict_A.append(np.argmax(test_y[0][i]))\n",
    "predict_A"
   ]
  },
  {
   "cell_type": "code",
   "execution_count": null,
   "metadata": {},
   "outputs": [],
   "source": []
  },
  {
   "cell_type": "code",
   "execution_count": null,
   "metadata": {},
   "outputs": [],
   "source": []
  },
  {
   "cell_type": "code",
   "execution_count": null,
   "metadata": {},
   "outputs": [],
   "source": []
  },
  {
   "cell_type": "code",
   "execution_count": 97,
   "metadata": {},
   "outputs": [
    {
     "name": "stdout",
     "output_type": "stream",
     "text": [
      "Model: \"model_3\"\n",
      "__________________________________________________________________________________________________\n",
      "Layer (type)                    Output Shape         Param #     Connected to                     \n",
      "==================================================================================================\n",
      "input_4 (InputLayer)            [(None, 44, 1)]      0                                            \n",
      "__________________________________________________________________________________________________\n",
      "lstm_3 (LSTM)                   (None, 44, 22)       2112        input_4[0][0]                    \n",
      "__________________________________________________________________________________________________\n",
      "permute_3 (Permute)             (None, 22, 44)       0           lstm_3[0][0]                     \n",
      "__________________________________________________________________________________________________\n",
      "reshape_3 (Reshape)             (None, 22, 44)       0           permute_3[0][0]                  \n",
      "__________________________________________________________________________________________________\n",
      "dense_6 (Dense)                 (None, 22, 44)       1980        reshape_3[0][0]                  \n",
      "__________________________________________________________________________________________________\n",
      "attention_vec (Permute)         (None, 44, 22)       0           dense_6[0][0]                    \n",
      "__________________________________________________________________________________________________\n",
      "attention_mul (Concatenate)     (None, 44, 44)       0           lstm_3[0][0]                     \n",
      "                                                                 attention_vec[0][0]              \n",
      "__________________________________________________________________________________________________\n",
      "dense_7 (Dense)                 (None, 44, 1)        45          attention_mul[0][0]              \n",
      "==================================================================================================\n",
      "Total params: 4,137\n",
      "Trainable params: 4,137\n",
      "Non-trainable params: 0\n",
      "__________________________________________________________________________________________________\n",
      "None\n"
     ]
    }
   ],
   "source": [
    "\n",
    "# from keras.layers.merge import concatenate\n",
    "# from keras.layers.core import *\n",
    "# from keras.layers.recurrent import LSTM\n",
    "# from keras.models import *\n",
    "# from keras.layers import Embedding, Bidirectional, LSTM,Dense, Conv1D, MaxPooling1D,TimeDistributed,Flatten\n",
    "\n",
    "# INPUT_DIM = 1\n",
    "# TIME_STEPS = MAX_SEQUENCE_LENGTH\n",
    "# # if True, the attention vector is shared across the input_dimensions where the attention is applied.\n",
    "# SINGLE_ATTENTION_VECTOR = False\n",
    "# def attention_3d_block(inputs):\n",
    "#     # inputs.shape = (batch_size, time_steps, input_dim)\n",
    "#     input_dim = int(inputs.shape[2])\n",
    "#     a = Permute((2, 1))(inputs)\n",
    "#     a = Reshape((input_dim, TIME_STEPS))(a) # this line is not useful. It's just to know which dimension is what.\n",
    "#     a = Dense(TIME_STEPS, activation='softmax')(a)\n",
    "#     if SINGLE_ATTENTION_VECTOR:\n",
    "#         a = Lambda(lambda x: K.mean(x, axis=1), name='dim_reduction')(a)\n",
    "#         a = RepeatVector(input_dim)(a)\n",
    "#     a_probs = Permute((2, 1), name='attention_vec')(a)\n",
    "#     output_attention_mul = concatenate([inputs, a_probs], name='attention_mul')\n",
    "#     return output_attention_mul\n",
    "\n",
    "# def model_attention_applied_after_lstm():\n",
    "#     inputs = Input(shape=(TIME_STEPS, INPUT_DIM,))\n",
    "#     lstm_units = 22\n",
    "#     lstm_out = LSTM(lstm_units, return_sequences=True)(inputs)\n",
    "#     attention_mul = attention_3d_block(lstm_out)\n",
    "#     # attention_mul = Flatten()(attention_mul)\n",
    "#     output = Dense(1, activation='sigmoid')(attention_mul)\n",
    "#     model = Model([inputs], output) #model = Model(input=[inputs], output=output)\n",
    "#     return model\n",
    "\n",
    "# def model_attention_applied_before_lstm():\n",
    "#     inputs = Input(shape=(TIME_STEPS, INPUT_DIM,))\n",
    "#     attention_mul = attention_3d_block(inputs)\n",
    "#     lstm_units = 32\n",
    "#     attention_mul = LSTM(lstm_units, return_sequences=True)(attention_mul)#原例子中是return_sequences=False\n",
    "#     output = Dense(1, activation='sigmoid')(attention_mul)\n",
    "#     model = Model([inputs], output)# model = Model(input=[inputs], output=output)\n",
    "#     return model\n",
    "\n",
    "# model = model_attention_applied_after_lstm()\n",
    "# #model = model_attention_applied_before_lstm()\n",
    "\n",
    "# model.compile(optimizer='adam', loss='binary_crossentropy', metrics=['accuracy'])\n",
    "# print(model.summary())\n",
    "\n",
    "# # m.fit([inputs_1], outputs, epochs=1, batch_size=64, validation_split=0.1)"
   ]
  },
  {
   "cell_type": "code",
   "execution_count": 98,
   "metadata": {},
   "outputs": [
    {
     "name": "stdout",
     "output_type": "stream",
     "text": [
      "Epoch 1/10\n",
      "11/11 [==============================] - 3s 99ms/step - loss: 0.7070 - accuracy: 0.3444 - val_loss: 0.6937 - val_accuracy: 0.2318\n",
      "Epoch 2/10\n",
      "11/11 [==============================] - 0s 28ms/step - loss: 0.6624 - accuracy: 0.3453 - val_loss: 0.5755 - val_accuracy: 0.2318\n",
      "Epoch 3/10\n",
      "11/11 [==============================] - 0s 27ms/step - loss: 0.5758 - accuracy: 0.3397 - val_loss: 0.3761 - val_accuracy: 0.2318\n",
      "Epoch 4/10\n",
      "11/11 [==============================] - 0s 23ms/step - loss: 0.4234 - accuracy: 0.3755 - val_loss: -0.1006 - val_accuracy: 0.2318\n",
      "Epoch 5/10\n",
      "11/11 [==============================] - 0s 26ms/step - loss: 0.0595 - accuracy: 0.3342 - val_loss: -0.6722 - val_accuracy: 0.2318\n",
      "Epoch 6/10\n",
      "11/11 [==============================] - 0s 23ms/step - loss: -0.3915 - accuracy: 0.3214 - val_loss: -1.1583 - val_accuracy: 0.2318\n",
      "Epoch 7/10\n",
      "11/11 [==============================] - 0s 24ms/step - loss: -0.7119 - accuracy: 0.3445 - val_loss: -1.5838 - val_accuracy: 0.2318\n",
      "Epoch 8/10\n",
      "11/11 [==============================] - 0s 24ms/step - loss: -0.8909 - accuracy: 0.3427 - val_loss: -1.9741 - val_accuracy: 0.2318\n",
      "Epoch 9/10\n",
      "11/11 [==============================] - 0s 22ms/step - loss: -1.1779 - accuracy: 0.3638 - val_loss: -2.3163 - val_accuracy: 0.2318\n",
      "Epoch 10/10\n",
      "11/11 [==============================] - 0s 22ms/step - loss: -1.2829 - accuracy: 0.3680 - val_loss: -2.6184 - val_accuracy: 0.2318\n"
     ]
    }
   ],
   "source": [
    "EPOCHS = 10\n",
    "\n",
    "\n",
    "# train model\n",
    "train_history=model.fit(train_x, train_y,batch_size=4,epochs=EPOCHS,  validation_data=(test_x, test_y))\n",
    "# original validation_data is [], change to ()\n",
    "# train_history=model.fit(train_x, train_y,batch_size=4,epochs=EPOCHS,  validation_data=[test_x, test_y])\n",
    "\n",
    "model.save('model/crf.h5')"
   ]
  },
  {
   "cell_type": "code",
   "execution_count": 100,
   "metadata": {},
   "outputs": [],
   "source": [
    "import matplotlib.pyplot as plt\n",
    "def show_train_history(train_history,train,validation):\n",
    "    plt.plot(train_history.history[train])\n",
    "    plt.plot(train_history.history[validation])\n",
    "    plt.title('Train History')\n",
    "    plt.ylabel('accuracy')\n",
    "    plt.xlabel('Epoch')\n",
    "    plt.legend(['train', 'validation'])\n",
    "    plt.show()\n"
   ]
  },
  {
   "cell_type": "code",
   "execution_count": 101,
   "metadata": {},
   "outputs": [
    {
     "data": {
      "image/png": "[encoded data removed]",
      "text/plain": [
       "<Figure size 432x288 with 1 Axes>"
      ]
     },
     "metadata": {
      "needs_background": "light"
     },
     "output_type": "display_data"
    }
   ],
   "source": [
    "show_train_history(train_history,'accuracy','val_accuracy')"
   ]
  },
  {
   "cell_type": "code",
   "execution_count": 25,
   "metadata": {},
   "outputs": [
    {
     "data": {
      "image/png": "[encoded data removed]",
      "text/plain": [
       "<Figure size 432x288 with 1 Axes>"
      ]
     },
     "metadata": {
      "needs_background": "light"
     },
     "output_type": "display_data"
    }
   ],
   "source": [
    "show_train_history(train_history,'loss','val_loss')"
   ]
  },
  {
   "cell_type": "code",
   "execution_count": null,
   "metadata": {},
   "outputs": [],
   "source": []
  }
 ],
 "metadata": {
  "kernelspec": {
   "display_name": "Python 3",
   "language": "python",
   "name": "python3"
  },
  "language_info": {
   "codemirror_mode": {
    "name": "ipython",
    "version": 3
   },
   "file_extension": ".py",
   "mimetype": "text/x-python",
   "name": "python",
   "nbconvert_exporter": "python",
   "pygments_lexer": "ipython3",
   "version": "3.8.9"
  }
 },
 "nbformat": 4,
 "nbformat_minor": 2
}
