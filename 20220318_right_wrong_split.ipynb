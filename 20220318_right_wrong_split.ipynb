{
 "cells": [
  {
   "cell_type": "code",
   "execution_count": 2,
   "metadata": {},
   "outputs": [],
   "source": [
    "import pandas as pd\n",
    "import numpy as np"
   ]
  },
  {
   "cell_type": "code",
   "execution_count": 34,
   "metadata": {},
   "outputs": [],
   "source": [
    "A_answer_df = pd.read_csv(\"/Users/apple/Desktop/deep_eye/dataset/answer/A_P1_answer.csv\").iloc[:,1:]\n",
    "C_answer_df = pd.read_csv(\"/Users/apple/Desktop/deep_eye/dataset/answer/C_P1_answer.csv\").iloc[:,1:]\n",
    "total_df = pd.read_csv('/Users/apple/Desktop/deep_eye/dataset/input_data.csv',usecols=['participant_ID','Q_ID','text','fixation1'])"
   ]
  },
  {
   "cell_type": "code",
   "execution_count": 31,
   "metadata": {},
   "outputs": [
    {
     "data": {
      "text/plain": [
       "[0,\n",
       " 1,\n",
       " 0,\n",
       " 1,\n",
       " 1,\n",
       " 0,\n",
       " 1,\n",
       " 1,\n",
       " 0,\n",
       " 0,\n",
       " 1,\n",
       " 1,\n",
       " 0,\n",
       " 0,\n",
       " 0,\n",
       " 1,\n",
       " 1,\n",
       " 1,\n",
       " 0,\n",
       " 0,\n",
       " 0,\n",
       " 0,\n",
       " 0,\n",
       " 1,\n",
       " 0,\n",
       " 0,\n",
       " 1,\n",
       " 0,\n",
       " 1,\n",
       " 0,\n",
       " 0,\n",
       " 1,\n",
       " 0,\n",
       " 0,\n",
       " 0,\n",
       " 1,\n",
       " 0,\n",
       " 1,\n",
       " 0,\n",
       " 0,\n",
       " 0,\n",
       " 1,\n",
       " 0,\n",
       " 1,\n",
       " 0,\n",
       " 0,\n",
       " 0]"
      ]
     },
     "execution_count": 31,
     "metadata": {},
     "output_type": "execute_result"
    }
   ],
   "source": [
    "combineAC_df = pd.concat([A_answer_df,C_answer_df],axis=0)\n",
    "combineAC_df = combineAC_df.reset_index(drop=True)\n",
    "combineAC_list = combineAC_df.values.tolist()\n",
    "combineAC_list[0]"
   ]
  },
  {
   "cell_type": "code",
   "execution_count": 72,
   "metadata": {},
   "outputs": [
    {
     "name": "stdout",
     "output_type": "stream",
     "text": [
      "0: True\n",
      "1: True\n",
      "2: True\n",
      "3: True\n",
      "4: True\n",
      "5: True\n",
      "6: True\n",
      "7: True\n",
      "8: True\n",
      "9: True\n",
      "10: True\n",
      "11: True\n",
      "12: True\n",
      "13: True\n",
      "14: True\n",
      "15: True\n",
      "16: True\n",
      "17: True\n",
      "18: True\n",
      "19: True\n",
      "20: True\n",
      "21: True\n",
      "22: True\n",
      "23: True\n",
      "24: True\n",
      "25: True\n",
      "26: True\n",
      "27: True\n",
      "28: True\n",
      "29: True\n",
      "30: True\n",
      "31: True\n",
      "32: True\n",
      "33: True\n",
      "34: True\n",
      "35: True\n",
      "36: True\n",
      "37: True\n",
      "38: True\n",
      "39: True\n",
      "40: True\n",
      "41: True\n",
      "42: True\n",
      "43: True\n",
      "44: True\n",
      "45: True\n",
      "46: True\n",
      "47: True\n",
      "48: True\n",
      "49: True\n",
      "50: True\n",
      "51: True\n",
      "52: True\n",
      "53: True\n",
      "54: True\n",
      "55: True\n",
      "56: True\n",
      "57: True\n",
      "58: True\n",
      "59: True\n"
     ]
    }
   ],
   "source": [
    "total_right_df = pd.DataFrame()\n",
    "for p in range(60):\n",
    "    p_answer = combineAC_list[p]\n",
    "    p_df = total_df[(total_df['participant_ID'] == p+1)]\n",
    "    right_df = pd.DataFrame()\n",
    "    for q in range(len(p_answer)):\n",
    "        if p_answer[q] == 1:\n",
    "            right_df = pd.concat([right_df, p_df[p_df['Q_ID'] == q+1]])\n",
    "    \n",
    "    # check point\n",
    "    a = [i+1 for i, x in enumerate(p_answer) if x == 1]\n",
    "    b = set(right_df['Q_ID'].values)\n",
    "    print(str(p)+\":\", set(a) == b)\n",
    "    total_right_df = pd.concat([total_right_df, right_df])\n",
    "total_right_df.to_csv(\"right.csv\")\n",
    "            "
   ]
  },
  {
   "cell_type": "code",
   "execution_count": 74,
   "metadata": {},
   "outputs": [
    {
     "name": "stdout",
     "output_type": "stream",
     "text": [
      "0: True\n",
      "1: True\n",
      "2: True\n",
      "3: True\n",
      "4: True\n",
      "5: True\n",
      "6: True\n",
      "7: True\n",
      "8: True\n",
      "9: True\n",
      "10: True\n",
      "11: True\n",
      "12: True\n",
      "13: True\n",
      "14: True\n",
      "15: True\n",
      "16: True\n",
      "17: True\n",
      "18: True\n",
      "19: True\n",
      "20: True\n",
      "21: True\n",
      "22: True\n",
      "23: True\n",
      "24: True\n",
      "25: True\n",
      "26: True\n",
      "27: True\n",
      "28: True\n",
      "29: True\n",
      "30: True\n",
      "31: True\n",
      "32: True\n",
      "33: True\n",
      "34: True\n",
      "35: True\n",
      "36: True\n",
      "37: True\n",
      "38: True\n",
      "39: True\n",
      "40: True\n",
      "41: True\n",
      "42: True\n",
      "43: True\n",
      "44: True\n",
      "45: True\n",
      "46: True\n",
      "47: True\n",
      "48: True\n",
      "49: True\n",
      "50: True\n",
      "51: True\n",
      "52: True\n",
      "53: True\n",
      "54: True\n",
      "55: True\n",
      "56: True\n",
      "57: True\n",
      "58: True\n",
      "59: True\n"
     ]
    }
   ],
   "source": [
    "total_wrong_df = pd.DataFrame()\n",
    "for p in range(60):\n",
    "    p_answer = combineAC_list[p]\n",
    "    p_df = total_df[(total_df['participant_ID'] == p+1)]\n",
    "    wrong_df = pd.DataFrame()\n",
    "    for q in range(len(p_answer)):\n",
    "        if p_answer[q] == 0: #0,1\n",
    "            wrong_df = pd.concat([wrong_df, p_df[p_df['Q_ID'] == q+1]])\n",
    "    \n",
    "    # check point\n",
    "    a = [i+1 for i, x in enumerate(p_answer) if x == 0] #0,1\n",
    "    b = set(wrong_df['Q_ID'].values)\n",
    "    print(str(p)+\":\", set(a) == b)\n",
    "    total_wrong_df = pd.concat([total_wrong_df, wrong_df])\n",
    "total_wrong_df.to_csv(\"wrong.csv\") "
   ]
  },
  {
   "cell_type": "code",
   "execution_count": 78,
   "metadata": {},
   "outputs": [
    {
     "name": "stdout",
     "output_type": "stream",
     "text": [
      "(35785, 4)\n",
      "(37475, 4)\n"
     ]
    }
   ],
   "source": [
    "print(total_right_df.shape)\n",
    "print(total_wrong_df.shape)"
   ]
  }
 ],
 "metadata": {
  "interpreter": {
   "hash": "53a1fa62a830fa84ef4359dc1e18ec7fa33ea9837a3d2e3d5d60cbb52313ec42"
  },
  "kernelspec": {
   "display_name": "deepeye_env",
   "language": "python",
   "name": "deepeye_env"
  },
  "language_info": {
   "codemirror_mode": {
    "name": "ipython",
    "version": 3
   },
   "file_extension": ".py",
   "mimetype": "text/x-python",
   "name": "python",
   "nbconvert_exporter": "python",
   "pygments_lexer": "ipython3",
   "version": "3.9.10"
  },
  "orig_nbformat": 4
 },
 "nbformat": 4,
 "nbformat_minor": 2
}
